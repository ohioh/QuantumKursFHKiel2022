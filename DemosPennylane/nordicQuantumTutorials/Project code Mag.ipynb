{
 "cells": [
  {
   "cell_type": "markdown",
   "metadata": {},
   "source": [
    "To use Pennylane`s funktions we first need tell our code where it is and how we want to use them which we can do by import it and giving it a name to indicate when we want to use a funktion out of it.\n",
    "We also need the spezialist numpy from pennylane as it specialist on quantum compunting."
   ]
  },
  {
   "cell_type": "code",
   "execution_count": 229,
   "metadata": {},
   "outputs": [],
   "source": [
    "import pennylane as qml\n",
    "from pennylane import numpy as np"
   ]
  },
  {
   "cell_type": "markdown",
   "metadata": {},
   "source": [
    "Next we need to create our quantum devices (an object on which we can apply quantum operations)\n",
    "There we can decide which kind of a qubit we want (we use a default qubit as they are the simplest qubist)\n",
    "wires defines the amount of qubits we want to initialize and want to work with (here only one)\n"
   ]
  },
  {
   "cell_type": "code",
   "execution_count": 230,
   "metadata": {},
   "outputs": [],
   "source": [
    "dev1 = qml.device(\"default.qubit\", wires=1)"
   ]
  },
  {
   "cell_type": "markdown",
   "metadata": {},
   "source": [
    "To use quantum fuktions correctly we frist have to make our device a quantum node which we do by executing the first line\n",
    "Our Funktion circuit is the entirety of the operations we apply on the Qubits. In this Circuit we first rotate it around the x-axis and then around the y-axis. Lastly in this function we use the expacted valvue of the  PauliZ-gate , which does not change the prabability, to measure the expected probability of the outcome. A positive value is the propability of falling on |0> (1) and a negative probability is the Percentage of falling on |1> (-1)\n"
   ]
  },
  {
   "cell_type": "code",
   "execution_count": 236,
   "metadata": {},
   "outputs": [],
   "source": [
    "@qml.qnode(dev1)\n",
    "def circuit(params):\n",
    "    qml.RX(params[0], wires=0)\n",
    "    qml.RY(params[1], wires=0)\n",
    "    return qml.expval(qml.PauliZ(0))"
   ]
  },
  {
   "cell_type": "markdown",
   "metadata": {},
   "source": [
    "Now we can rotate the qubit as we wannt and get different probabilities depending on where on the spere our starting point(which was on top at |0>) now is.\n",
    "The rotation phase is in radians.\n",
    "To calculate the Probabilities for different rotations you can change the values for xrot and yrot in the code below."
   ]
  },
  {
   "cell_type": "code",
   "execution_count": null,
   "metadata": {},
   "outputs": [],
   "source": [
    "xrot = 1/3*np.pi\n",
    "yrot = 5*np.pi"
   ]
  },
  {
   "cell_type": "markdown",
   "metadata": {},
   "source": [
    "If you want to print out the above given probabilities use the following code. With the for up given information in math and physik basic the result should make sense to you."
   ]
  },
  {
   "cell_type": "code",
   "execution_count": 248,
   "metadata": {},
   "outputs": [
    {
     "name": "stdout",
     "output_type": "stream",
     "text": [
      "rotate x= 1.0471975511965976    rotate around y= 15.707963267948966   probability for landing on  |1>  :-0.5000000000000002\n"
     ]
    }
   ],
   "source": [
    "\n",
    "prob= circuit([xrot, yrot])\n",
    "if prob > 0:\n",
    "    print(\"rotate x= \"+ str(xrot)+\"    rotate around y= \"+str(yrot)+ \"   probability for landing on |0>  :\"+str(prob) )\n",
    "elif prob <0:  \n",
    "    print(\"rotate x= \"+ str(xrot)+\"    rotate around y= \"+str(yrot)+ \"   probability for landing on  |1>  :\"+str(prob) )\n",
    "else:\n",
    "    print(\"rotate x= \"+ str(xrot)+\"    rotate around y= \"+str(yrot)+ \"   probability is equally split between |0> and |1> :\"+str(prob) )"
   ]
  },
  {
   "cell_type": "markdown",
   "metadata": {},
   "source": [
    "Next up we take a look behind the probabilities by analyse single shots.\n",
    "\n",
    "There we start quite similar. We just create a new device in which we determine to test exactly the curcuit exactly 10 times."
   ]
  },
  {
   "cell_type": "code",
   "execution_count": 249,
   "metadata": {},
   "outputs": [],
   "source": [
    "dev2 = qml.device(\"default.qubit\", wires=1, shots = 100)"
   ]
  },
  {
   "cell_type": "code",
   "execution_count": 250,
   "metadata": {},
   "outputs": [],
   "source": [
    "@qml.qnode(dev2)\n",
    "def circuit2(params):\n",
    "    qml.RX(params[0], wires=0)\n",
    "    qml.RY(params[1], wires=0)\n",
    "    return qml.sample(qml.PauliZ(0))"
   ]
  },
  {
   "cell_type": "code",
   "execution_count": 251,
   "metadata": {},
   "outputs": [
    {
     "name": "stdout",
     "output_type": "stream",
     "text": [
      "[ 1  1 -1  1 -1  1 -1  1  1 -1 -1  1  1 -1  1  1 -1  1  1  1 -1 -1  1  1\n",
      " -1  1 -1 -1 -1 -1  1 -1 -1  1 -1 -1  1  1  1  1  1  1 -1 -1  1  1  1  1\n",
      "  1 -1  1  1 -1  1  1  1  1  1 -1 -1  1  1  1  1  1  1  1  1  1  1 -1  1\n",
      " -1  1 -1 -1  1 -1  1 -1  1  1  1  1  1 -1  1 -1  1  1  1  1  1  1  1  1\n",
      " -1 -1  1 -1]\n"
     ]
    }
   ],
   "source": [
    "print(circuit2([1/3*np.pi, 1/3*np.pi]))\n"
   ]
  }
 ],
 "metadata": {
  "interpreter": {
   "hash": "e057845e8ca54f265ac2abe523c418f85fa34c3d567f1714b3265cdbb4bd8fbd"
  },
  "kernelspec": {
   "display_name": "Python 3.10.4 64-bit",
   "language": "python",
   "name": "python3"
  },
  "language_info": {
   "codemirror_mode": {
    "name": "ipython",
    "version": 3
   },
   "file_extension": ".py",
   "mimetype": "text/x-python",
   "name": "python",
   "nbconvert_exporter": "python",
   "pygments_lexer": "ipython3",
   "version": "3.10.4"
  },
  "orig_nbformat": 4
 },
 "nbformat": 4,
 "nbformat_minor": 2
}
