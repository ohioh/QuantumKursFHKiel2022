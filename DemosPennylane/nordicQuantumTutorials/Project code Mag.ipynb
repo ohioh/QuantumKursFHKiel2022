{
 "cells": [
  {
   "cell_type": "markdown",
   "metadata": {},
   "source": [
    "To use Pennylane`s funktions we first need tell our code where it is and how we want to use them which we can do by import it and giving it a name to indicate when we want to use a funktion out of it.\n",
    "We also need the spezialist numpy from pennylane as it specialist on quantum compunting."
   ]
  },
  {
   "cell_type": "code",
   "execution_count": 6,
   "metadata": {},
   "outputs": [],
   "source": [
    "import pennylane as qml\n",
    "from pennylane import numpy as np"
   ]
  },
  {
   "cell_type": "markdown",
   "metadata": {},
   "source": [
    "Next we need to create our quantum devices (an object on which we can apply quantum operations)\n",
    "There we can decide which kind of a qubit we want (we use a default qubit as they are the simplest qubist)\n",
    "wires defines the amount of qubits we want to initialize and want to work with (here only one)\n"
   ]
  },
  {
   "cell_type": "code",
   "execution_count": 7,
   "metadata": {},
   "outputs": [],
   "source": [
    "dev1 = qml.device(\"default.qubit\", wires=1)"
   ]
  },
  {
   "cell_type": "markdown",
   "metadata": {},
   "source": [
    "To use quantum fuktions correctly we first have to make our device a quantum node which we do by executing the first line\n",
    "Our Funktion circuit is the entirety of the operations we apply on the Qubits. In this Circuit we first rotate it around the x-axis and then around the y-axis. Lastly in this function we use the expacted valvue of the  PauliZ-gate , which does not change the prabability, to measure the expected probability of the outcome. A positive value shows a higher propability of falling on |0> (1) and a negative probability shows a higher Percentage of falling on |1> (-1) \n"
   ]
  },
  {
   "cell_type": "code",
   "execution_count": 8,
   "metadata": {},
   "outputs": [],
   "source": [
    "@qml.qnode(dev1)\n",
    "def circuit(params):\n",
    "    qml.RX(params[0], wires=0)\n",
    "    qml.RY(params[1], wires=0)\n",
    "    return qml.expval(qml.PauliZ(0))"
   ]
  },
  {
   "cell_type": "markdown",
   "metadata": {},
   "source": [
    "Now we can rotate the qubit as we wannt and get different probabilities depending on where on the spere our starting point(which was on top at |0>) now is.\n",
    "The rotation phase is in radians.\n",
    "To calculate the Probabilities for different rotations you can change the values for xrot and yrot in the code below."
   ]
  },
  {
   "cell_type": "code",
   "execution_count": 280,
   "metadata": {},
   "outputs": [],
   "source": [
    "xrot = 0.54\n",
    "yrot = 0.12"
   ]
  },
  {
   "cell_type": "markdown",
   "metadata": {},
   "source": [
    "If you want to print out the above given probabilities use the following code. With the for up given information in math and physik basic the result should make sense to you."
   ]
  },
  {
   "cell_type": "code",
   "execution_count": 281,
   "metadata": {},
   "outputs": [
    {
     "name": "stdout",
     "output_type": "stream",
     "text": [
      "rotate x= 0.54    rotate around y= 0.12   the theorytical mesurement point is at :0.8515405859048367   the Probability for landing on |0> = 0.9257702929524183\n"
     ]
    }
   ],
   "source": [
    "\n",
    "point = circuit([xrot, yrot])\n",
    "if point > 0:\n",
    "    prob = ((1-point)/2)\n",
    "    print(\"rotate x= \"+ str(xrot)+\"    rotate around y= \"+str(yrot)+ \"   the theorytical mesurement point is at :\"+str(point) + \"   the Probability for landing on |0> = \"+ str((1-prob) ))\n",
    "elif point <0:\n",
    "    prob = (1+point)/2\n",
    "    print(\"rotate x= \"+ str(xrot)+\"    rotate around y= \"+str(yrot)+ \" the theorytical mesurement point is at :\"+str(point) + \"     the Probability for landing on |1> = \"+ str((1-prob) ))\n",
    "else:\n",
    "    print(\"rotate x= \"+ str(xrot)+\"    rotate around y= \"+str(yrot)+ \"   probability is equally split between |0> and |1> :\"+str(point) )"
   ]
  },
  {
   "cell_type": "markdown",
   "metadata": {},
   "source": [
    "Next up we take a look behind the probabilities by analyse single shots.\n",
    "\n",
    "There we start quite similar. We just create a new device in which we determine how often we retry this circuit"
   ]
  },
  {
   "cell_type": "code",
   "execution_count": 282,
   "metadata": {},
   "outputs": [],
   "source": [
    "numberofshots = 100\n",
    "dev2 = qml.device(\"default.qubit\", wires=1, shots = numberofshots)\n"
   ]
  },
  {
   "cell_type": "code",
   "execution_count": 283,
   "metadata": {},
   "outputs": [],
   "source": [
    "@qml.qnode(dev2)\n",
    "def circuit2(params):\n",
    "    qml.RX(params[0], wires=0)\n",
    "    qml.RY(params[1], wires=0)\n",
    "    return qml.sample(qml.PauliZ(0))"
   ]
  },
  {
   "cell_type": "code",
   "execution_count": 360,
   "metadata": {},
   "outputs": [
    {
     "name": "stdout",
     "output_type": "stream",
     "text": [
      "[ 1  1  1  1  1  1  1 -1  1  1  1  1  1 -1  1  1  1 -1  1  1  1  1  1  1\n",
      "  1  1  1  1  1  1  1  1  1  1  1  1  1  1  1  1  1  1  1 -1  1  1  1  1\n",
      "  1  1  1 -1  1  1  1  1  1  1  1  1  1  1  1  1  1  1  1  1  1  1  1  1\n",
      "  1  1  1  1  1  1  1  1  1  1  1  1  1  1  1 -1  1  1  1  1  1  1  1  1\n",
      "  1  1  1  1]\n",
      "of 100 shots: 94 were measured at |0> resulting in a probability of: 0.94\n"
     ]
    }
   ],
   "source": [
    "ans = circuit2([xrot,yrot])\n",
    "count1 = 0\n",
    "for i in range(len(ans)):\n",
    "    if ans[i] == 1:\n",
    "        count1 +=1\n",
    "\n",
    "    \n",
    "\n",
    "print(ans)\n",
    "print(\"of \"+ str(numberofshots) + \" shots: \" + str(count1) +\" were measured at |0> resulting in a probability of: \"+ str(count1/len(ans)))"
   ]
  },
  {
   "cell_type": "markdown",
   "metadata": {},
   "source": [
    "Now we can compare the "
   ]
  }
 ],
 "metadata": {
  "interpreter": {
   "hash": "e057845e8ca54f265ac2abe523c418f85fa34c3d567f1714b3265cdbb4bd8fbd"
  },
  "kernelspec": {
   "display_name": "Python 3.10.4 64-bit",
   "language": "python",
   "name": "python3"
  },
  "language_info": {
   "codemirror_mode": {
    "name": "ipython",
    "version": 3
   },
   "file_extension": ".py",
   "mimetype": "text/x-python",
   "name": "python",
   "nbconvert_exporter": "python",
   "pygments_lexer": "ipython3",
   "version": "3.10.4"
  },
  "orig_nbformat": 4
 },
 "nbformat": 4,
 "nbformat_minor": 2
}
