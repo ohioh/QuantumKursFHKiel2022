{
 "cells": [
  {
   "cell_type": "markdown",
   "metadata": {},
   "source": [
    "To use Pennylane`s funktions we first need tell our code where they are and how we want to use them which we can do by import it. We also change the name to have a faster faster acces to it.\n",
    "We also need the numpy from pennylane as it specialist on quantum compunting and has some extra functions."
   ]
  },
  {
   "cell_type": "code",
   "execution_count": 3,
   "metadata": {},
   "outputs": [],
   "source": [
    "import pennylane as qml\n",
    "from pennylane import numpy as np"
   ]
  },
  {
   "cell_type": "markdown",
   "metadata": {},
   "source": [
    "Next we need to create our quantum devices (an object on which we can apply quantum operations).\n",
    "There we can decide which kind of a qubit we want (we use a default qubit as they are the simplest qubist).\n",
    "Wires defines the amount of qubits we want to initialize and want to work with. Here we only want to work with one.\n"
   ]
  },
  {
   "cell_type": "code",
   "execution_count": 4,
   "metadata": {},
   "outputs": [],
   "source": [
    "dev1 = qml.device(\"default.qubit\", wires=1)"
   ]
  },
  {
   "cell_type": "markdown",
   "metadata": {},
   "source": [
    "To use quantum fuktions correctly we first have to make our device a quantum node which we do by executing the first line.\n",
    "\n",
    "Our Funktion circuit is the entirety of the operations we apply on the Qubits. In this Circuit we first rotate it around the x-axis with the function \"qml.Rx()\" and then around the y-axis with the \"qml.Ry()\" function.\n",
    "For that our function needs to params representing the phase in radians we rotate with. \n",
    "The Rx and Ry rotation functions both need one of these phases as well as the wire the function should be applied on. The wire has to be 0 as be only have one and start counting in Python at 0. The Rx and Ry rotation both change the state and the probability of a value being measured.\n",
    "\n",
    "Lastly in this function we use the expacted valvue of the  PauliZ-gate of wire 0, which does not change the prabability of a value being measured, to measure the expected probability of the outcome.\n",
    "A positive value shows a higher propability of falling on |0> shown in the result as 1 and a negative probability shows a higher Percentage of falling on |1> shown in the result as -1\n"
   ]
  },
  {
   "cell_type": "code",
   "execution_count": 5,
   "metadata": {},
   "outputs": [],
   "source": [
    "@qml.qnode(dev1)\n",
    "def circuit(params):\n",
    "    qml.RX(params[0], wires=0)\n",
    "    qml.RY(params[1], wires=0)\n",
    "    return qml.expval(qml.PauliZ(0))"
   ]
  },
  {
   "cell_type": "markdown",
   "metadata": {},
   "source": [
    "Now we can rotate the qubit into different states. The ground state is at the top at |0>. The state and the probability changes at these rotations.\n",
    "The rotation phase is in radians.\n",
    "To calculate the Probabilities for different rotations you can change the values for xrot and yrot in the code below."
   ]
  },
  {
   "cell_type": "code",
   "execution_count": 72,
   "metadata": {},
   "outputs": [],
   "source": [
    "xrot = 0.4*np.pi\n",
    "yrot = 0.2*np.pi"
   ]
  },
  {
   "cell_type": "markdown",
   "metadata": {},
   "source": [
    "If you want to print out the above given probabilities and the state the qubit has been in, use the following code. With the for up given information in math and physik basic the result should make sense to you.\n",
    "\n",
    "\n",
    "We now execute the function. The code below will show you the ration around both axis, the state the qubit has been in and the probability of qubit falling into either |0> or |1>.\n",
    "The state of the Qubit should be between -1 and 1 and the probability between 0.5 and 1 as it always shows the probability of the more likely result."
   ]
  },
  {
   "cell_type": "code",
   "execution_count": 73,
   "metadata": {},
   "outputs": [
    {
     "name": "stdout",
     "output_type": "stream",
     "text": [
      "rotate x= 1.2566370614359172    rotate around y= 0.6283185307179586   state of the qubit :0.24999999999999994   the Probability for landing on |0> = 0.625\n"
     ]
    }
   ],
   "source": [
    "\n",
    "point = circuit([xrot, yrot])\n",
    "\n",
    "if point > 0:\n",
    "    prob = ((1-point)/2)\n",
    "    print(\"rotate x= \"+ str(xrot)+\"    rotate around y= \"+str(yrot)+ \"   state of the qubit :\" +str(point) + \"   the Probability for landing on |0> = \"+ str((1-prob) ))\n",
    "elif point <0:\n",
    "    prob = (1+point)/2\n",
    "    print(\"rotate x= \"+ str(xrot)+\"    rotate around y= \"+str(yrot)+ \" state of the qubit :\" +str(point) + \"     the Probability for landing on |1> = \"+ str((1-prob) ))\n",
    "else:\n",
    "    print(\"rotate x= \"+ str(xrot)+\"    rotate around y= \"+str(yrot)+ \"  state of the qubit :\" +str(point) + \"    the probability is equally split between |0> and |1> :\")"
   ]
  },
  {
   "cell_type": "markdown",
   "metadata": {},
   "source": [
    "Next up we take a look behind the probabilities by analyse single shots.\n",
    "\n",
    "There we start quite similar. We just create a new device (dev2) in which we determine how often we retry this circuit.\n",
    "Right know it is set to 100 but you can change it easily."
   ]
  },
  {
   "cell_type": "code",
   "execution_count": 74,
   "metadata": {},
   "outputs": [],
   "source": [
    "numberofshots = 100\n",
    "dev2 = qml.device(\"default.qubit\", wires=1, shots = numberofshots)\n"
   ]
  },
  {
   "cell_type": "markdown",
   "metadata": {},
   "source": [
    "Now we make make our second deveice also a qnote and create a second ciruit which ist execpt the same as the first one except for the last line.\n",
    "There we use the qml.sample() function of the PauliZ transformation. This will return an array of -1 and 1. -1 reperesent falling on|1> and 1 shows the falling on |0>"
   ]
  },
  {
   "cell_type": "code",
   "execution_count": 75,
   "metadata": {},
   "outputs": [],
   "source": [
    "@qml.qnode(dev2)\n",
    "def circuit2(params):\n",
    "    qml.RX(params[0], wires=0)\n",
    "    qml.RY(params[1], wires=0)\n",
    "    return qml.sample(qml.PauliZ(0))"
   ]
  },
  {
   "cell_type": "markdown",
   "metadata": {},
   "source": [
    "Here we execute our new circut and calculate the possibility of how often the qubit did fall on the grund state |0>.\n",
    "These probability you can compare to the expectet value from the first circuit."
   ]
  },
  {
   "cell_type": "code",
   "execution_count": 76,
   "metadata": {},
   "outputs": [
    {
     "name": "stdout",
     "output_type": "stream",
     "text": [
      "[ 1  1 -1 -1  1 -1  1  1  1  1  1 -1  1  1  1 -1  1  1  1  1  1 -1  1  1\n",
      " -1 -1 -1 -1  1  1  1  1  1 -1 -1 -1 -1  1 -1  1 -1  1  1 -1 -1  1  1  1\n",
      "  1 -1 -1  1  1  1  1  1 -1  1 -1  1  1 -1  1  1 -1  1  1 -1 -1  1  1  1\n",
      "  1  1  1 -1  1  1  1  1  1 -1  1 -1  1 -1  1  1  1  1 -1 -1  1 -1 -1  1\n",
      "  1  1  1 -1]\n",
      "of 100 shots: 65 were measured at |0> resulting in a probability of: 0.65\n"
     ]
    }
   ],
   "source": [
    "ans = circuit2([xrot,yrot])\n",
    "count1 = 0\n",
    "for i in range(len(ans)):\n",
    "    if ans[i] == 1:\n",
    "        count1 +=1\n",
    "\n",
    "print(ans)\n",
    "print(\"of \"+ str(numberofshots) + \" shots: \" + str(count1) +\" were measured at |0> resulting in a probability of: \"+ str(count1/len(ans)))"
   ]
  }
 ],
 "metadata": {
  "interpreter": {
   "hash": "e057845e8ca54f265ac2abe523c418f85fa34c3d567f1714b3265cdbb4bd8fbd"
  },
  "kernelspec": {
   "display_name": "Python 3.10.4 64-bit",
   "language": "python",
   "name": "python3"
  },
  "language_info": {
   "codemirror_mode": {
    "name": "ipython",
    "version": 3
   },
   "file_extension": ".py",
   "mimetype": "text/x-python",
   "name": "python",
   "nbconvert_exporter": "python",
   "pygments_lexer": "ipython3",
   "version": "3.10.4"
  },
  "orig_nbformat": 4
 },
 "nbformat": 4,
 "nbformat_minor": 2
}
