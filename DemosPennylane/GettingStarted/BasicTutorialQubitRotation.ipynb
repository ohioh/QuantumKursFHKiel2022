{
 "cells": [
  {
   "cell_type": "markdown",
   "metadata": {},
   "source": [
    "### Basic tutorial: qubit rotation\n",
    "Author: PennyLane dev team. Last updated: 19 Jan 2021.\n",
    "additional content is marked with @nordicQuantum ( by nordicQuantum Authors)\n",
    "\n",
    "To see how PennyLane allows the easy construction and optimization of quantum functions, let’s consider the simple case of qubit rotation the PennyLane version of the ‘Hello, world!’ example.\n",
    "\n",
    "The task at hand is to optimize two rotation gates in order to flip a single qubit from state \n",
    "|0⟩ to state |1⟩.\n",
    "\n",
    "\n"
   ]
  },
  {
   "cell_type": "markdown",
   "metadata": {},
   "source": [
    "### The quantum circuit\n",
    "In the qubit rotation example, we wish to implement the following quantum circuit:\n",
    "![rotation](rotation_circuit.png)\n",
    "\n",
    "Breaking this down step-by-step, we first start with a qubit in the ground state \n",
    "|0⟩=[1 0]^T , and rotate it around the x-axis by applying the gate\n",
    "![xaxis](xaxis2.png)\n",
    "and then around the y-axis via the gate\n",
    "![bild4](bild3.png)\n",
    "After these operations the qubit is now in the state\n",
    "![bild4](bild4.png)\n",
    "Finally, we measure the expectation value ⟨ψ∣σ z∣ψ⟩ of the Pauli-Z operator\n",
    "![bild5](bild5.png)\n",
    "Using the above to calculate the exact expectation value, we find that\n",
    "![bild6](bild6.png)"
   ]
  },
  {
   "cell_type": "code",
   "execution_count": 6,
   "metadata": {},
   "outputs": [],
   "source": [
    "import pennylane as qml\n",
    "from pennylane import numpy as np\n",
    "\n",
    "dev1 = qml.device(\"default.qubit\", wires=1)\n"
   ]
  },
  {
   "cell_type": "code",
   "execution_count": 7,
   "metadata": {},
   "outputs": [],
   "source": [
    "@qml.qnode(dev1)\n",
    "def circuit(params):\n",
    "    qml.RX(params[0], wires=0)\n",
    "    qml.RY(params[1], wires=0)\n",
    "    return qml.expval(qml.PauliZ(0))"
   ]
  },
  {
   "cell_type": "code",
   "execution_count": 8,
   "metadata": {},
   "outputs": [
    {
     "name": "stdout",
     "output_type": "stream",
     "text": [
      "0.8515405859048367\n"
     ]
    }
   ],
   "source": [
    "print(circuit([0.54, 0.12]))\n",
    "\n"
   ]
  }
 ],
 "metadata": {
  "interpreter": {
   "hash": "916dbcbb3f70747c44a77c7bcd40155683ae19c65e1c03b4aa3499c5328201f1"
  },
  "kernelspec": {
   "display_name": "Python 3.8.10 64-bit",
   "language": "python",
   "name": "python3"
  },
  "language_info": {
   "codemirror_mode": {
    "name": "ipython",
    "version": 3
   },
   "file_extension": ".py",
   "mimetype": "text/x-python",
   "name": "python",
   "nbconvert_exporter": "python",
   "pygments_lexer": "ipython3",
   "version": "3.8.10"
  },
  "orig_nbformat": 4
 },
 "nbformat": 4,
 "nbformat_minor": 2
}
