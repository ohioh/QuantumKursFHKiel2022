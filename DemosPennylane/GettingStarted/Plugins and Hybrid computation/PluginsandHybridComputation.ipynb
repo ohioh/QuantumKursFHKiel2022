{
 "cells": [
  {
   "cell_type": "markdown",
   "metadata": {},
   "source": [
    "## Plugins and Hybrid computation\n",
    "\n",
    "[pennylane demo](https://pennylane.ai/qml/demos/tutorial_plugins_hybrid.html#hybrid-computation-example)\n",
    "\n",
    "\n"
   ]
  },
  {
   "cell_type": "markdown",
   "metadata": {},
   "source": []
  }
 ],
 "metadata": {
  "language_info": {
   "name": "python"
  },
  "orig_nbformat": 4
 },
 "nbformat": 4,
 "nbformat_minor": 2
}
