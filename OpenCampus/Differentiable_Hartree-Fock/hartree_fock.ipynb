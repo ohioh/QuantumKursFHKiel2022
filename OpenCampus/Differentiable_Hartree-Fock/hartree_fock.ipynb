{
 "cells": [
  {
   "cell_type": "markdown",
   "id": "af259bf3-2933-4c03-9485-f4e2634bf87a",
   "metadata": {},
   "source": [
    "<h1><center>Differentiable Hartree-Fock & the H$_2$-molecule </center></h1>\n",
    "In this notebook, the application of quantum algorithms on the Hartree-Fock approximation for quantum chemistry systems will be discussed. As an explicit example, properties of H$_2$ are calculated with PennyLane.\n",
    "\n",
    "# 1 Theory\n",
    "The concept of the Hartee-Fock approximation for many particle systems will briefly be discussed. Atomic and CGS units will be used, i.e. $\\hbar=e_0=m_e=4\\pi\\epsilon_0=1.$\n",
    "\n",
    "## 1.1 Quantum Chemistry\n",
    "The physical properties of systems investigated in quantum chemistry (e.g. electrolyte-surface interfaces) are derived from the many body state $|\\psi \\rangle$, which solves the stationary Schrödinger equation\n",
    "\n",
    "$$ \\hat{H}|\\psi \\rangle=E |\\psi \\rangle. $$\n",
    "In the following, the occupation number representation will be used, i.e.\n",
    "\n",
    "$$ |\\psi \\rangle \\rightarrow |n_1,n_2,...,n_N \\rangle, $$\n",
    "with fermionic occupation numbers $n_i =0,1$ of particle $i$. Further, we will assume a non degenerate ground state  and thermodynamic equilibrium at $T=0$K.\n",
    "\n",
    "## 1.2 Differentiable Hartree-Fock\n",
    "Methods in many particle theory like Hartree-Fock, which is used in the quantum chemistry methods of PennyLane, can smartly be formulated in second quantization, introducing the fermionic ladder operators.\n",
    "The molecular Hamilton operator in second quantization can be derived as\n",
    "\n",
    "$$ \\hat{H} = \\sum_{p,q}h_{p,q}\\,a_p\\,a^{\\dagger}_q \\, +\\, \\frac{1}{2}\\sum_{p,q,r,s}h_{p,q,r,s}\\,a^{\\dagger}_p\\,a^{\\dagger}_q a_r \\,a_s\\,, $$\n",
    "with $a^{\\dagger}_q$, $a_q$, $a^{\\dagger}_p$, ... being the fermionic ladder operators that act on particle $q,p,r,s$ respectively.<br>\n",
    "The coefficients $h_{p,q}$ and $h_{p,q,r,s}$ in terms of single particle orbitals $\\Phi(\\mathbf{r})$ can be written as\n",
    "$$ h_{p,q}= \\int \\mathrm{d}^3\\mathbf{r}\\,\\Phi^{\\star}_p(\\mathbf{r})\\left[ -\\frac{\\nabla^2}{2}- \\sum_{i=1}^{N_\\mathrm{cores}} \\frac{Z_i}{|\\mathbf{r}-\\mathbf{R_i}|}\\right] \\Phi_q(\\mathbf{r}) ,$$\n",
    "denoting the $p\\rightarrow q$-matrix element of the kinetic energy + the single particle coulomb interaction with the core $i$ with atomic number $Z_i$ and coordinate $\\mathbf{R_i},$ and\n",
    "$$ h_{p,q,r,s} = \\int \\mathrm{d}^3\\mathbf{r_1}\\int \\mathrm{d}^3\\mathbf{r_2} \\frac{\\Phi^{\\star}_p(\\mathbf{r_1})\\Phi_s(\\mathbf{r_1})\\Phi^{\\star}_q(\\mathbf{r_2})\\Phi_r(\\mathbf{r_2})}{|\\mathbf{r_1}-\\mathbf{r_2}|}$$\n",
    "beeing the two electron pair interaction energy at locations $\\mathbf{r_1}$ and $\\mathbf{r_2}$.\n",
    "\n",
    "\n",
    "# 2 Implementation\n",
    "The simulations will be done using **PennyLane** and Python3.9. The code is taken from\n",
    "[[1]](#another_cell) and [[2]](#another_cell).<br> \n",
    "PennyLane simulates a quantum computers hardware, so that quantum algorithms can be run. Predefined methods that realize the Hartree-Fock formalism with quantum algorithms are given. \n",
    "## 2.1 Classical Variation\n",
    "For example, we can define a H$_2$-molecule via the `mol` method, that takes arguments `symbols` and `geometry`. The total energy in Hartree-Fock approximation is calculated via `hf_energy(mol)(geometry)`:"
   ]
  },
  {
   "cell_type": "code",
   "execution_count": 14,
   "id": "ecaa50dc",
   "metadata": {},
   "outputs": [
    {
     "name": "stdout",
     "output_type": "stream",
     "text": [
      "[-1.11751]\n"
     ]
    }
   ],
   "source": [
    "from autograd import grad\n",
    "import pennylane as qml\n",
    "from pennylane import numpy as np\n",
    "import matplotlib.pyplot as plt\n",
    "np.set_printoptions(precision=5)\n",
    "\n",
    "symbols = [\"H\", \"H\"]\n",
    "# optimized geometry at the Hartree-Fock level\n",
    "geometry = np.array([[-0.672943967415407, 0.0, 0.0],\n",
    "                     [ 0.672943967415407, 0.0, 0.0]], requires_grad=True)\n",
    "mol = qml.qchem.Molecule(symbols, geometry)\n",
    "a = qml.qchem.hf_energy(mol)(geometry)\n",
    "print(a)"
   ]
  },
  {
   "cell_type": "markdown",
   "id": "9dd6a706",
   "metadata": {},
   "source": [
    "With these predefined methods, we can compute e.g. the bonding length of the H$_2$ molecule by minimizing the total energy $E=\\langle\\psi(\\mathbf{R})|\\hat{H} |\\psi(\\mathbf{R})\\rangle$ in terms of the molecular coordinates $\\mathbf{R}$:"
   ]
  },
  {
   "cell_type": "code",
   "execution_count": 28,
   "id": "580ae528",
   "metadata": {
    "scrolled": false
   },
   "outputs": [
    {
     "data": {
      "image/png": "[encoded data removed]",
      "text/plain": [
       "<Figure size 432x288 with 1 Axes>"
      ]
     },
     "metadata": {
      "needs_background": "light"
     },
     "output_type": "display_data"
    },
    {
     "name": "stdout",
     "output_type": "stream",
     "text": [
      "Bonding length = 1.34 Bohr\n"
     ]
    }
   ],
   "source": [
    "x=[]\n",
    "y=[]\n",
    "\n",
    "for i in range(15,300):\n",
    "    b = i/100\n",
    "    geometry = np.array([[b, 0.0, 0.0],\n",
    "                         [ -1*b, 0.0, 0.0]], requires_grad=True)\n",
    "\n",
    "    mol = qml.qchem.Molecule(symbols, geometry)\n",
    "    energy=qml.qchem.hf_energy(mol)(geometry)\n",
    "    x.append(2*b)\n",
    "    y.append(energy)\n",
    "\n",
    "    plt.plot(x,y)\n",
    "plt.ylabel(\"$E$ / Hartree\")\n",
    "plt.xlabel(\"Distance / Bohr\")\n",
    "plt.show()\n",
    "min=np.argmin(y)\n",
    "print(\"Bonding length =\",x[min],\"Bohr\") # approximate bonding length of H_2 in Bohr"
   ]
  },
  {
   "cell_type": "markdown",
   "id": "78bf3863",
   "metadata": {},
   "source": [
    "This achieves $\\approx$ 4% deviation from numerical results using DFT (ref. [[3]](#another_cell))."
   ]
  },
  {
   "cell_type": "markdown",
   "id": "657fe733",
   "metadata": {},
   "source": [
    "With the same principle, the gradient $\\nabla E$ in terms of the nuclear coordinates can be displayed via the\n",
    "`grad()` method. Since in the above example we only varied the nuclear coordinates in the $x$-direction, we compute the gradient only in $\\mathbf{R_x}$-direction as well:"
   ]
  },
  {
   "cell_type": "code",
   "execution_count": 39,
   "id": "fcbe5bcc",
   "metadata": {},
   "outputs": [
    {
     "data": {
      "image/png": "[encoded data removed]",
      "text/plain": [
       "<Figure size 432x288 with 1 Axes>"
      ]
     },
     "metadata": {
      "needs_background": "light"
     },
     "output_type": "display_data"
    }
   ],
   "source": [
    "x=[]\n",
    "y=[]\n",
    "\n",
    "for i in range(40,150):\n",
    "    b = i/100\n",
    "    geometry = np.array([[b, 0.0, 0.0],\n",
    "                         [ -1*b, 0.0, 0.0]], requires_grad=True)\n",
    "\n",
    "    mol = qml.qchem.Molecule(symbols, geometry)\n",
    "    d_energy=grad(qml.qchem.hf_energy(mol))(geometry)\n",
    "    x.append(2*b)\n",
    "    y.append(d_energy[0][0])  \n",
    "plt.plot(x,y)\n",
    "plt.axhline(y=0,linestyle=\"--\",color=\"black\")\n",
    "plt.axvline(x=1.34,linestyle=\"--\",color=\"black\")\n",
    "plt.ylabel(r\"$\\nabla_xE$ / Hartree / Bohr\")\n",
    "plt.xlabel(\"Distance / Bohr\")\n",
    "plt.show()"
   ]
  },
  {
   "cell_type": "markdown",
   "id": "c6be9fe3",
   "metadata": {},
   "source": [
    "Unsurprisingly, the gradient reaches zero at the prior computed bonding length, as change in energy should be minimal in the region of the equilibrium distance."
   ]
  },
  {
   "cell_type": "markdown",
   "id": "f83c5792",
   "metadata": {},
   "source": [
    "## 2.2 VQE Simulations"
   ]
  },
  {
   "cell_type": "markdown",
   "id": "73d92c8b",
   "metadata": {},
   "source": [
    "\n",
    "<a id='another_cell'></a> \n",
    "# References \n",
    "[1] *Differentiable quantum computational chemistry with\n",
    "PennyLane*, Juan Miguel Arrazola et al., https://arxiv.org/abs/2111.09967\n",
    "<br>\n",
    "    [2] *Differentiable Hartree-Fock*, Website, Soran Jahangiri, https://pennylane.ai/qml/demos/tutorial_differentiable_HF.html <br>\n",
    "                                                                                                                                    [3] *Describing static correlation in bond dissociation by Kohn–Sham density functional theory*, Martin Fuchs et al, The Journal of chemical physics 122, page 94116"
   ]
  },
  {
   "cell_type": "code",
   "execution_count": null,
   "id": "ed60f27f",
   "metadata": {},
   "outputs": [],
   "source": [
    "Implementation"
   ]
  }
 ],
 "metadata": {
  "kernelspec": {
   "display_name": "Python 3 (ipykernel)",
   "language": "python",
   "name": "python3"
  },
  "language_info": {
   "codemirror_mode": {
    "name": "ipython",
    "version": 3
   },
   "file_extension": ".py",
   "mimetype": "text/x-python",
   "name": "python",
   "nbconvert_exporter": "python",
   "pygments_lexer": "ipython3",
   "version": "3.9.0"
  }
 },
 "nbformat": 4,
 "nbformat_minor": 5
}
