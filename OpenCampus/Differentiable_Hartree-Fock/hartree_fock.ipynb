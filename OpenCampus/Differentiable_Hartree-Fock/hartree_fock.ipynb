{
 "cells": [
  {
   "cell_type": "markdown",
   "id": "af259bf3-2933-4c03-9485-f4e2634bf87a",
   "metadata": {},
   "source": [
    "# 1 Theory\n",
    "\n",
    "## 1.1 Quantum Chemistry\n",
    "The physical properties of systems investigated in quantum chemistry (e.g. electrolyte-surface interfaces) are derived from the many body state $|\\psi \\rangle$, which solves the stationary Schrödinger equation\n",
    "\n",
    "$$ \\hat{H}|\\psi \\rangle=E |\\psi \\rangle. $$\n",
    "In the following, the occupation number representation will be used, i.e.\n",
    "\n",
    "$$ |\\psi \\rangle \\rightarrow |n_1,n_2,...,n_N \\rangle, $$\n",
    "with fermionic occupation numbers $n_i =0,1$ of orbital $i$.\n",
    "\n",
    "## 1.2 Differentiable Hartree-Fock\n",
    "The molecular Hamilton operator in second quantization can be derived as\n",
    "\n",
    "$$ \\hat{H} = \\sum_{p,q}h_{p,q}\\,a_p\\,a^{\\dagger}_q \\, +\\, \\frac{1}{2}\\sum_{p,q,r,s}h_{p,q,r,s}\\,a^{\\dagger}_p\\,a^{\\dagger}_q a_r \\,a_s\\,, $$\n",
    "\n",
    "\n",
    "# 2 Implementation\n",
    "The simulations will be done with **PennyLane** and Python3.9. The code is taken from\n",
    "[[1]](#another_cell) and [[2]](#another_cell).<br> \n",
    "k"
   ]
  },
  {
   "cell_type": "code",
   "execution_count": 2,
   "id": "ecaa50dc",
   "metadata": {},
   "outputs": [
    {
     "name": "stdout",
     "output_type": "stream",
     "text": [
      "[-1.11751]\n"
     ]
    }
   ],
   "source": [
    "from autograd import grad\n",
    "import pennylane as qml\n",
    "from pennylane import numpy as np\n",
    "import matplotlib.pyplot as plt\n",
    "np.set_printoptions(precision=5)\n",
    "\n",
    "symbols = [\"H\", \"H\"]\n",
    "# optimized geometry at the Hartree-Fock level\n",
    "geometry = np.array([[-0.672943567415407, 0.0, 0.0],\n",
    "                     [ 0.672943567415407, 0.0, 0.0]], requires_grad=True)\n",
    "mol = qml.qchem.Molecule(symbols, geometry)\n",
    "a = qml.qchem.hf_energy(mol)(geometry)\n",
    "print(a)"
   ]
  },
  {
   "cell_type": "markdown",
   "id": "9dd6a706",
   "metadata": {},
   "source": [
    "With these predefined methods, we can compute e.g. the bonding length of the H$_2$ molecule by minimizing the total energy:"
   ]
  },
  {
   "cell_type": "code",
   "execution_count": 15,
   "id": "580ae528",
   "metadata": {},
   "outputs": [
    {
     "data": {
      "image/png": "[encoded data removed]",
      "text/plain": [
       "<Figure size 432x288 with 1 Axes>"
      ]
     },
     "metadata": {
      "needs_background": "light"
     },
     "output_type": "display_data"
    },
    {
     "name": "stdout",
     "output_type": "stream",
     "text": [
      "Bonding length = 1.34 Bohr\n"
     ]
    }
   ],
   "source": [
    "x=[]\n",
    "y=[]\n",
    "\n",
    "for i in range(10,300):\n",
    "    b = i/100\n",
    "    geometry = np.array([[b, 0.0, 0.0],\n",
    "                         [ -1*b, 0.0, 0.0]], requires_grad=True)\n",
    "\n",
    "    mol = qml.qchem.Molecule(symbols, geometry)\n",
    "    energy=qml.qchem.hf_energy(mol)(geometry)\n",
    "    x.append(b)\n",
    "    y.append(energy)\n",
    "    \n",
    "plt.plot(x,y)\n",
    "plt.ylabel(\"$E$ / Hartree\")\n",
    "plt.xlabel(\"Distance / Bohr\")\n",
    "plt.show()\n",
    "min=np.argmin(y)\n",
    "print(\"Bonding length =\",2*x[min],\"Bohr\") # approximate bonding length of H_2 in Bohr"
   ]
  },
  {
   "cell_type": "markdown",
   "id": "78bf3863",
   "metadata": {},
   "source": [
    "Which achieves $\\approx$ 4% deviation from numerical results using DFT (ref. [[3]](#another_cell))."
   ]
  },
  {
   "cell_type": "markdown",
   "id": "73d92c8b",
   "metadata": {},
   "source": [
    "\n",
    "<a id='another_cell'></a> \n",
    "# References \n",
    "[1] *Differentiable quantum computational chemistry with\n",
    "PennyLane*, Juan Miguel Arrazola et al., https://arxiv.org/abs/2111.09967\n",
    "<br>\n",
    "    [2] *Differentiable Hartree-Fock*, Website, Soran Jahangiri, https://pennylane.ai/qml/demos/tutorial_differentiable_HF.html <br>\n",
    "                                                                                                                                    [3] *Describing static correlation in bond dissociation by Kohn–Sham density functional theory*, Martin Fuchs et al, The Journal of chemical physics 122, page 94116"
   ]
  },
  {
   "cell_type": "code",
   "execution_count": null,
   "id": "5af66e2f-b791-43be-b908-adfdb3123852",
   "metadata": {},
   "outputs": [],
   "source": []
  },
  {
   "cell_type": "code",
   "execution_count": null,
   "id": "88492ba8",
   "metadata": {},
   "outputs": [],
   "source": []
  },
  {
   "cell_type": "code",
   "execution_count": null,
   "id": "4788a8b8-7d4b-4fea-8a1e-d82370f7d01e",
   "metadata": {},
   "outputs": [],
   "source": []
  },
  {
   "cell_type": "code",
   "execution_count": null,
   "id": "e10950ee",
   "metadata": {},
   "outputs": [],
   "source": []
  },
  {
   "cell_type": "code",
   "execution_count": null,
   "id": "5d9d6cdc",
   "metadata": {},
   "outputs": [],
   "source": []
  },
  {
   "cell_type": "code",
   "execution_count": null,
   "id": "1a382a40",
   "metadata": {},
   "outputs": [],
   "source": []
  },
  {
   "cell_type": "code",
   "execution_count": null,
   "id": "d9330237",
   "metadata": {},
   "outputs": [],
   "source": []
  }
 ],
 "metadata": {
  "kernelspec": {
   "display_name": "Python 3 (ipykernel)",
   "language": "python",
   "name": "python3"
  },
  "language_info": {
   "codemirror_mode": {
    "name": "ipython",
    "version": 3
   },
   "file_extension": ".py",
   "mimetype": "text/x-python",
   "name": "python",
   "nbconvert_exporter": "python",
   "pygments_lexer": "ipython3",
   "version": "3.9.0"
  }
 },
 "nbformat": 4,
 "nbformat_minor": 5
}
