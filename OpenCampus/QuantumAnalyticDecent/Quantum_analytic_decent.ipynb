{
 "cells": [
  {
   "cell_type": "markdown",
   "id": "ed554628",
   "metadata": {},
   "source": [
    "# Quantum analytic decent"
   ]
  },
  {
   "cell_type": "code",
   "execution_count": 5,
   "id": "63446ecc",
   "metadata": {},
   "outputs": [],
   "source": [
    "#Importiere die notwendigen Packages\n",
    "import pennylane as qml\n",
    "from pennylane import numpy as np\n",
    "import matplotlib.pyplot as plt\n",
    "import warnings"
   ]
  },
  {
   "cell_type": "markdown",
   "id": "f0b5cc61",
   "metadata": {},
   "source": [
    "Initialisieren"
   ]
  },
  {
   "cell_type": "code",
   "execution_count": 6,
   "id": "f1292968",
   "metadata": {},
   "outputs": [],
   "source": [
    "warnings.filterwarnings(\"ignore\")\n",
    "\n",
    "#Setze den seed, damit die Pseudozufallsprozesse reproduzierbar ablaufen\n",
    "np.random.seed(0)"
   ]
  },
  {
   "cell_type": "markdown",
   "id": "f8423e66",
   "metadata": {},
   "source": [
    "Definiere ein Device mit dem Namen \"dev\" und zwei Qbits.\n",
    "Definiere eine Quantenfunktion mit dem Argument \"parameters\". Auf beiden wires findet eine Rotation um die X-Achse um den Winkel parameters[0] bzw. parameters[1] statt. Die Ausgabe der Funktion sind die mit einem Pauli Z Gate ausgewerteten Wires. Die Funktion wird mit @qml.qnode() in eine QNode umgewandelt."
   ]
  },
  {
   "cell_type": "code",
   "execution_count": 7,
   "id": "d34568cf",
   "metadata": {},
   "outputs": [],
   "source": [
    "# Create a device with 2 qubits.\n",
    "dev = qml.device(\"default.qubit\", wires=2)\n",
    "\n",
    "# Define the variational form V and observable M and combine them into a QNode.\n",
    "@qml.qnode(dev, diff_method=\"parameter-shift\", max_diff=2)\n",
    "def circuit(parameters):\n",
    "    qml.RX(parameters[0], wires=0)\n",
    "    qml.RX(parameters[1], wires=1)\n",
    "    return qml.expval(qml.PauliZ(0) @ qml.PauliZ(1))"
   ]
  },
  {
   "cell_type": "markdown",
   "id": "634d605a",
   "metadata": {},
   "source": [
    "Werte für je einen fixen Parameter (3.3 bzw. 0.5) die Funktion für den jeweils anderen Parameter aus dem Intervall [0, 2] an num-samples = 50 gleichmäßig verteilten Punkten aus.\n",
    "Plotte die Ergebnisse für beide Parameter mit dem varierten Parameter theta auf der X-Achse und der Energie (Ausgabe der Funktion circuit) auf der Y-Achse."
   ]
  },
  {
   "cell_type": "code",
   "execution_count": 9,
   "id": "77641547",
   "metadata": {},
   "outputs": [
    {
     "data": {
      "image/png": "[encoded data removed]",
      "text/plain": [
       "<Figure size 288x216 with 1 Axes>"
      ]
     },
     "metadata": {
      "needs_background": "light"
     },
     "output_type": "display_data"
    }
   ],
   "source": [
    "# Create 1D sweeps through parameter space with the other parameter fixed.\n",
    "num_samples = 50\n",
    "\n",
    "# Fix a parameter position.\n",
    "parameters = np.array([3.3, 0.5], requires_grad=True)\n",
    "\n",
    "theta_func = np.linspace(0, 2 * np.pi, num_samples)\n",
    "C1 = [circuit(np.array([theta, parameters[1]])) for theta in theta_func]\n",
    "C2 = [circuit(np.array([parameters[0], theta])) for theta in theta_func]\n",
    "\n",
    "# Show the sweeps.\n",
    "fig, ax = plt.subplots(1, 1, figsize=(4, 3))\n",
    "ax.plot(theta_func, C1, label=\"$E(\\\\theta, 0.5)$\", color=\"r\")\n",
    "ax.plot(theta_func, C2, label=\"$E(3.3, \\\\theta)$\", color=\"orange\")\n",
    "ax.set_xlabel(\"$\\\\theta$\")\n",
    "ax.set_ylabel(\"$E$\")\n",
    "ax.legend()\n",
    "plt.tight_layout()"
   ]
  },
  {
   "cell_type": "code",
   "execution_count": 11,
   "id": "14cec3a8",
   "metadata": {},
   "outputs": [
    {
     "name": "stdout",
     "output_type": "stream",
     "text": [
      "0.2919265817264289\n"
     ]
    }
   ],
   "source": [
    "print(circuit(np.array([1,1])))"
   ]
  }
 ],
 "metadata": {
  "kernelspec": {
   "display_name": "Python 3 (ipykernel)",
   "language": "python",
   "name": "python3"
  },
  "language_info": {
   "codemirror_mode": {
    "name": "ipython",
    "version": 3
   },
   "file_extension": ".py",
   "mimetype": "text/x-python",
   "name": "python",
   "nbconvert_exporter": "python",
   "pygments_lexer": "ipython3",
   "version": "3.9.12"
  }
 },
 "nbformat": 4,
 "nbformat_minor": 5
}
